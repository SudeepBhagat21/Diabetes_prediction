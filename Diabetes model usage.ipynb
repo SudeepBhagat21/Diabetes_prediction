{
 "cells": [
  {
   "cell_type": "code",
   "execution_count": 1,
   "id": "39a5d137",
   "metadata": {},
   "outputs": [],
   "source": [
    "from joblib import dump, load\n",
    "import numpy as np\n",
    "\n",
    "model = load('Diabetes_prediction.joblib')"
   ]
  },
  {
   "cell_type": "code",
   "execution_count": 7,
   "id": "52277906",
   "metadata": {},
   "outputs": [
    {
     "name": "stdout",
     "output_type": "stream",
     "text": [
      "Person is diabetic.\n"
     ]
    }
   ],
   "source": [
    "features = ([[0,137,40,35,168,43.1,2.288,33]])\n",
    "\n",
    "pred_model = model.predict(features)\n",
    "\n",
    "if (pred_model == [0]):\n",
    "    print('Person is not diabetic.')\n",
    "else:\n",
    "    print('Person is diabetic.')"
   ]
  },
  {
   "cell_type": "code",
   "execution_count": null,
   "id": "567afe2a",
   "metadata": {},
   "outputs": [],
   "source": []
  }
 ],
 "metadata": {
  "kernelspec": {
   "display_name": "Python 3 (ipykernel)",
   "language": "python",
   "name": "python3"
  },
  "language_info": {
   "codemirror_mode": {
    "name": "ipython",
    "version": 3
   },
   "file_extension": ".py",
   "mimetype": "text/x-python",
   "name": "python",
   "nbconvert_exporter": "python",
   "pygments_lexer": "ipython3",
   "version": "3.9.12"
  }
 },
 "nbformat": 4,
 "nbformat_minor": 5
}
